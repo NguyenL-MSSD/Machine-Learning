{
 "cells": [
  {
   "cell_type": "code",
   "execution_count": null,
   "metadata": {},
   "outputs": [],
   "source": [
    "#https://github.com/WillKoehrsen/Data-Analysis/blob/master/statistics/Simpson%27s%20Paradox.ipynb\n",
    "\"\"\"\n",
    "I attempted to follow this tutorial of Will Koehrsen to learn how to use pandas, numpy, and matplotlib\n",
    "\"\"\""
   ]
  },
  {
   "cell_type": "code",
   "execution_count": 1,
   "metadata": {},
   "outputs": [],
   "source": [
    "import pandas as pd\n",
    "import numpy as np\n",
    "import matplotlib.pyplot as plt\n",
    "%matplotlib inline\n"
   ]
  },
  {
   "cell_type": "code",
   "execution_count": 19,
   "metadata": {},
   "outputs": [
    {
     "data": {
      "text/html": [
       "<div>\n",
       "<style scoped>\n",
       "    .dataframe tbody tr th:only-of-type {\n",
       "        vertical-align: middle;\n",
       "    }\n",
       "\n",
       "    .dataframe tbody tr th {\n",
       "        vertical-align: top;\n",
       "    }\n",
       "\n",
       "    .dataframe thead th {\n",
       "        text-align: right;\n",
       "    }\n",
       "</style>\n",
       "<table border=\"1\" class=\"dataframe\">\n",
       "  <thead>\n",
       "    <tr style=\"text-align: right;\">\n",
       "      <th></th>\n",
       "      <th>X Better</th>\n",
       "      <th>X Treated</th>\n",
       "      <th>Y Better</th>\n",
       "      <th>Y Treated</th>\n",
       "      <th>X Percent</th>\n",
       "      <th>Y Percent</th>\n",
       "    </tr>\n",
       "  </thead>\n",
       "  <tbody>\n",
       "    <tr>\n",
       "      <th>M</th>\n",
       "      <td>125</td>\n",
       "      <td>610</td>\n",
       "      <td>29</td>\n",
       "      <td>150</td>\n",
       "      <td>0.204918</td>\n",
       "      <td>0.193333</td>\n",
       "    </tr>\n",
       "    <tr>\n",
       "      <th>F</th>\n",
       "      <td>22</td>\n",
       "      <td>75</td>\n",
       "      <td>60</td>\n",
       "      <td>240</td>\n",
       "      <td>0.293333</td>\n",
       "      <td>0.250000</td>\n",
       "    </tr>\n",
       "  </tbody>\n",
       "</table>\n",
       "</div>"
      ],
      "text/plain": [
       "   X Better  X Treated  Y Better  Y Treated  X Percent  Y Percent\n",
       "M       125        610        29        150   0.204918   0.193333\n",
       "F        22         75        60        240   0.293333   0.250000"
      ]
     },
     "execution_count": 19,
     "metadata": {},
     "output_type": "execute_result"
    }
   ],
   "source": [
    "data = pd.DataFrame({'X Better': [125, 22], \"X Treated\":[610,75], \"Y Better\":[29,60], \"Y Treated\":[150,240]}, index= [\"M\",\"F\"])\n",
    "data [\"X Percent\"] = data [\"X Better\"] / data[ \"X Treated\"]\n",
    "data [\"Y Percent\"] = data [\"Y Better\"]/ data[\"Y Treated\"]\n",
    "data"
   ]
  },
  {
   "cell_type": "code",
   "execution_count": 20,
   "metadata": {},
   "outputs": [
    {
     "data": {
      "text/html": [
       "<div>\n",
       "<style scoped>\n",
       "    .dataframe tbody tr th:only-of-type {\n",
       "        vertical-align: middle;\n",
       "    }\n",
       "\n",
       "    .dataframe tbody tr th {\n",
       "        vertical-align: top;\n",
       "    }\n",
       "\n",
       "    .dataframe thead th {\n",
       "        text-align: right;\n",
       "    }\n",
       "</style>\n",
       "<table border=\"1\" class=\"dataframe\">\n",
       "  <thead>\n",
       "    <tr style=\"text-align: right;\">\n",
       "      <th></th>\n",
       "      <th>X Better</th>\n",
       "      <th>X Treated</th>\n",
       "      <th>Y Better</th>\n",
       "      <th>Y Treated</th>\n",
       "      <th>X Percent</th>\n",
       "      <th>Y Percent</th>\n",
       "    </tr>\n",
       "  </thead>\n",
       "  <tbody>\n",
       "    <tr>\n",
       "      <th>M</th>\n",
       "      <td>125.0</td>\n",
       "      <td>610.0</td>\n",
       "      <td>29.0</td>\n",
       "      <td>150.0</td>\n",
       "      <td>0.204918</td>\n",
       "      <td>0.193333</td>\n",
       "    </tr>\n",
       "    <tr>\n",
       "      <th>F</th>\n",
       "      <td>22.0</td>\n",
       "      <td>75.0</td>\n",
       "      <td>60.0</td>\n",
       "      <td>240.0</td>\n",
       "      <td>0.293333</td>\n",
       "      <td>0.250000</td>\n",
       "    </tr>\n",
       "    <tr>\n",
       "      <th>Combine</th>\n",
       "      <td>147.0</td>\n",
       "      <td>685.0</td>\n",
       "      <td>89.0</td>\n",
       "      <td>390.0</td>\n",
       "      <td>0.214599</td>\n",
       "      <td>0.228205</td>\n",
       "    </tr>\n",
       "  </tbody>\n",
       "</table>\n",
       "</div>"
      ],
      "text/plain": [
       "         X Better  X Treated  Y Better  Y Treated  X Percent  Y Percent\n",
       "M           125.0      610.0      29.0      150.0   0.204918   0.193333\n",
       "F            22.0       75.0      60.0      240.0   0.293333   0.250000\n",
       "Combine     147.0      685.0      89.0      390.0   0.214599   0.228205"
      ]
     },
     "execution_count": 20,
     "metadata": {},
     "output_type": "execute_result"
    }
   ],
   "source": [
    "data.loc[\"Combine\",:4] = list(data.iloc[:,:4].sum())\n",
    "data.loc[\"Combine\", \"X Percent\"] = data.loc[\"Combine\",\"X Better\"] / data.loc[\"Combine\", \"X Treated\"]\n",
    "data.loc[\"Combine\", \"Y Percent\"] = data.loc[\"Combine\", \"Y Better\"] / data.loc[\"Combine\", \"Y Treated\"]\n",
    "data"
   ]
  },
  {
   "cell_type": "code",
   "execution_count": 22,
   "metadata": {},
   "outputs": [
    {
     "data": {
      "text/html": [
       "<div>\n",
       "<style scoped>\n",
       "    .dataframe tbody tr th:only-of-type {\n",
       "        vertical-align: middle;\n",
       "    }\n",
       "\n",
       "    .dataframe tbody tr th {\n",
       "        vertical-align: top;\n",
       "    }\n",
       "\n",
       "    .dataframe thead th {\n",
       "        text-align: right;\n",
       "    }\n",
       "</style>\n",
       "<table border=\"1\" class=\"dataframe\">\n",
       "  <thead>\n",
       "    <tr style=\"text-align: right;\">\n",
       "      <th></th>\n",
       "      <th>Recommend Sophia</th>\n",
       "      <th>Sophia's Total</th>\n",
       "      <th>Recommend Carlo</th>\n",
       "      <th>Carlo's Total</th>\n",
       "    </tr>\n",
       "  </thead>\n",
       "  <tbody>\n",
       "    <tr>\n",
       "      <th>M</th>\n",
       "      <td>50</td>\n",
       "      <td>150</td>\n",
       "      <td>180</td>\n",
       "      <td>360</td>\n",
       "    </tr>\n",
       "    <tr>\n",
       "      <th>F</th>\n",
       "      <td>200</td>\n",
       "      <td>250</td>\n",
       "      <td>36</td>\n",
       "      <td>40</td>\n",
       "    </tr>\n",
       "  </tbody>\n",
       "</table>\n",
       "</div>"
      ],
      "text/plain": [
       "   Recommend Sophia  Sophia's Total  Recommend Carlo  Carlo's Total\n",
       "M                50             150              180            360\n",
       "F               200             250               36             40"
      ]
     },
     "execution_count": 22,
     "metadata": {},
     "output_type": "execute_result"
    }
   ],
   "source": [
    "# Restaurant review\n",
    "\n",
    "res_data = pd.DataFrame({\"Recommend Sophia\": [50,200], \"Sophia's Total\": [150,250],\"Recommend Carlo\": [180,36], \"Carlo's Total\": [360,40]}, index= [\"M\", \"F\"])\n",
    "res_data"
   ]
  },
  {
   "cell_type": "code",
   "execution_count": 28,
   "metadata": {},
   "outputs": [
    {
     "data": {
      "text/html": [
       "<div>\n",
       "<style scoped>\n",
       "    .dataframe tbody tr th:only-of-type {\n",
       "        vertical-align: middle;\n",
       "    }\n",
       "\n",
       "    .dataframe tbody tr th {\n",
       "        vertical-align: top;\n",
       "    }\n",
       "\n",
       "    .dataframe thead th {\n",
       "        text-align: right;\n",
       "    }\n",
       "</style>\n",
       "<table border=\"1\" class=\"dataframe\">\n",
       "  <thead>\n",
       "    <tr style=\"text-align: right;\">\n",
       "      <th></th>\n",
       "      <th>Recommend Sophia</th>\n",
       "      <th>Sophia's Total</th>\n",
       "      <th>Recommend Carlo</th>\n",
       "      <th>Carlo's Total</th>\n",
       "      <th>Sophia's Percent</th>\n",
       "      <th>Carlo's Percent</th>\n",
       "    </tr>\n",
       "  </thead>\n",
       "  <tbody>\n",
       "    <tr>\n",
       "      <th>M</th>\n",
       "      <td>50</td>\n",
       "      <td>150</td>\n",
       "      <td>180</td>\n",
       "      <td>360</td>\n",
       "      <td>0.333333</td>\n",
       "      <td>0.5</td>\n",
       "    </tr>\n",
       "    <tr>\n",
       "      <th>F</th>\n",
       "      <td>200</td>\n",
       "      <td>250</td>\n",
       "      <td>36</td>\n",
       "      <td>40</td>\n",
       "      <td>0.800000</td>\n",
       "      <td>0.9</td>\n",
       "    </tr>\n",
       "  </tbody>\n",
       "</table>\n",
       "</div>"
      ],
      "text/plain": [
       "   Recommend Sophia  Sophia's Total  Recommend Carlo  Carlo's Total  \\\n",
       "M                50             150              180            360   \n",
       "F               200             250               36             40   \n",
       "\n",
       "   Sophia's Percent  Carlo's Percent  \n",
       "M          0.333333              0.5  \n",
       "F          0.800000              0.9  "
      ]
     },
     "execution_count": 28,
     "metadata": {},
     "output_type": "execute_result"
    }
   ],
   "source": [
    "res_data[\"Sophia's Percent\"] = res_data[\"Recommend Sophia\"] / res_data[\"Sophia's Total\"]\n",
    "res_data[\"Carlo's Percent\"] = res_data[\"Recommend Carlo\"]/ res_data[\"Carlo's Total\"]\n",
    "res_data"
   ]
  },
  {
   "cell_type": "code",
   "execution_count": 30,
   "metadata": {},
   "outputs": [
    {
     "data": {
      "text/html": [
       "<div>\n",
       "<style scoped>\n",
       "    .dataframe tbody tr th:only-of-type {\n",
       "        vertical-align: middle;\n",
       "    }\n",
       "\n",
       "    .dataframe tbody tr th {\n",
       "        vertical-align: top;\n",
       "    }\n",
       "\n",
       "    .dataframe thead th {\n",
       "        text-align: right;\n",
       "    }\n",
       "</style>\n",
       "<table border=\"1\" class=\"dataframe\">\n",
       "  <thead>\n",
       "    <tr style=\"text-align: right;\">\n",
       "      <th></th>\n",
       "      <th>Recommend Sophia</th>\n",
       "      <th>Sophia's Total</th>\n",
       "      <th>Recommend Carlo</th>\n",
       "      <th>Carlo's Total</th>\n",
       "      <th>Sophia's Percent</th>\n",
       "      <th>Carlo's Percent</th>\n",
       "    </tr>\n",
       "  </thead>\n",
       "  <tbody>\n",
       "    <tr>\n",
       "      <th>M</th>\n",
       "      <td>50.0</td>\n",
       "      <td>150.0</td>\n",
       "      <td>180.0</td>\n",
       "      <td>360.0</td>\n",
       "      <td>0.333333</td>\n",
       "      <td>0.50</td>\n",
       "    </tr>\n",
       "    <tr>\n",
       "      <th>F</th>\n",
       "      <td>200.0</td>\n",
       "      <td>250.0</td>\n",
       "      <td>36.0</td>\n",
       "      <td>40.0</td>\n",
       "      <td>0.800000</td>\n",
       "      <td>0.90</td>\n",
       "    </tr>\n",
       "    <tr>\n",
       "      <th>Combined</th>\n",
       "      <td>250.0</td>\n",
       "      <td>400.0</td>\n",
       "      <td>216.0</td>\n",
       "      <td>400.0</td>\n",
       "      <td>0.625000</td>\n",
       "      <td>0.54</td>\n",
       "    </tr>\n",
       "  </tbody>\n",
       "</table>\n",
       "</div>"
      ],
      "text/plain": [
       "          Recommend Sophia  Sophia's Total  Recommend Carlo  Carlo's Total  \\\n",
       "M                     50.0           150.0            180.0          360.0   \n",
       "F                    200.0           250.0             36.0           40.0   \n",
       "Combined             250.0           400.0            216.0          400.0   \n",
       "\n",
       "          Sophia's Percent  Carlo's Percent  \n",
       "M                 0.333333             0.50  \n",
       "F                 0.800000             0.90  \n",
       "Combined          0.625000             0.54  "
      ]
     },
     "execution_count": 30,
     "metadata": {},
     "output_type": "execute_result"
    }
   ],
   "source": [
    "res_data.loc[\"Combined\",:4] = list(res_data.iloc[:,:4].sum())\n",
    "res_data.loc[\"Combined\",\"Sophia's Percent\"] = res_data.loc[\"Combined\",\"Recommend Sophia\"] / res_data.loc[\"Combined\", \"Sophia's Total\"]\n",
    "res_data.loc[\"Combined\",\"Carlo's Percent\"] = res_data.loc[\"Combined\",\"Recommend Carlo\"] / res_data.loc[\"Combined\", \"Carlo's Total\"]\n",
    "res_data"
   ]
  },
  {
   "cell_type": "code",
   "execution_count": null,
   "metadata": {},
   "outputs": [],
   "source": []
  }
 ],
 "metadata": {
  "kernelspec": {
   "display_name": "Python 3",
   "language": "python",
   "name": "python3"
  },
  "language_info": {
   "codemirror_mode": {
    "name": "ipython",
    "version": 3
   },
   "file_extension": ".py",
   "mimetype": "text/x-python",
   "name": "python",
   "nbconvert_exporter": "python",
   "pygments_lexer": "ipython3",
   "version": "3.6.5"
  }
 },
 "nbformat": 4,
 "nbformat_minor": 2
}
